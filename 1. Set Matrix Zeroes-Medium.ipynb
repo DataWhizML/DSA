{
 "cells": [
  {
   "cell_type": "markdown",
   "metadata": {},
   "source": [
    "### Q:"
   ]
  },
  {
   "cell_type": "markdown",
   "metadata": {},
   "source": [
    "## Brute Force"
   ]
  },
  {
   "cell_type": "code",
   "execution_count": 56,
   "metadata": {},
   "outputs": [],
   "source": [
    "matrix1 = [[1,1,1],[1,0,1],[1,1,1]]"
   ]
  },
  {
   "cell_type": "code",
   "execution_count": 8,
   "metadata": {},
   "outputs": [
    {
     "data": {
      "text/plain": [
       "3"
      ]
     },
     "execution_count": 8,
     "metadata": {},
     "output_type": "execute_result"
    }
   ],
   "source": [
    "n=len(matrix1)#number of rows\n",
    "n"
   ]
  },
  {
   "cell_type": "code",
   "execution_count": 10,
   "metadata": {},
   "outputs": [
    {
     "data": {
      "text/plain": [
       "3"
      ]
     },
     "execution_count": 10,
     "metadata": {},
     "output_type": "execute_result"
    }
   ],
   "source": [
    "m=len(matrix1[0])#number of columns\n",
    "m"
   ]
  },
  {
   "cell_type": "code",
   "execution_count": 46,
   "metadata": {},
   "outputs": [],
   "source": [
    "def mark_row(i,matrix,n,m):\n",
    "    for j in range(0,m):\n",
    "        if matrix[i][j]!=0:\n",
    "            matrix[i][j]=-1\n",
    "def mark_column(j,matrix,n,m):\n",
    "    for i in range(0,n):\n",
    "        if matrix[i][j]!=0:\n",
    "            matrix[i][j]=-1\n",
    "            \n",
    "def setZeroes(matrix):\n",
    "    n=len(matrix)\n",
    "    m=len(matrix[0])\n",
    "    for i in range(0,n):\n",
    "        for j in range(0,m):\n",
    "            if matrix[i][j]==0:\n",
    "                mark_row(i,matrix,n,m)\n",
    "                mark_column(j,matrix,n,m)\n",
    "\n",
    "    for i in range(0,n):\n",
    "        for j in range(0,m):\n",
    "            if matrix[i][j]==-1:\n",
    "                matrix[i][j]=0 \n",
    "setZeroes(matrix)    "
   ]
  },
  {
   "cell_type": "code",
   "execution_count": 47,
   "metadata": {},
   "outputs": [
    {
     "data": {
      "text/plain": [
       "[[1, 0, 1], [0, 0, 0], [1, 0, 1]]"
      ]
     },
     "execution_count": 47,
     "metadata": {},
     "output_type": "execute_result"
    }
   ],
   "source": [
    "matrix    "
   ]
  },
  {
   "cell_type": "code",
   "execution_count": null,
   "metadata": {},
   "outputs": [],
   "source": [
    "#### Time complexity:\n",
    "- TC =(n*m)*(m+n) + (n*m)\n",
    "-  =n^3"
   ]
  },
  {
   "cell_type": "markdown",
   "metadata": {},
   "source": [
    "### Better approach"
   ]
  },
  {
   "cell_type": "code",
   "execution_count": null,
   "metadata": {},
   "outputs": [],
   "source": [
    "- eliminating the row/column marking will lead us to n^2 complexity\n",
    "- we initialize a seperate column and row to all zeroes\n",
    "- mark them 1 when atleast 1 element in the row/column is 0\n",
    "- then re-iterate and convert those 1s into 0s"
   ]
  },
  {
   "cell_type": "code",
   "execution_count": 50,
   "metadata": {},
   "outputs": [],
   "source": [
    "def zeroMatrix(matrix,n,m):\n",
    "    #creating a column array of m size(aas there are m columns in the matrix)\n",
    "    col=[0]*m\n",
    "    #creating a row array of m size(aas there are m columns in the matrix)\n",
    "    row=[0]*n\n",
    "    #traverse the matrix\n",
    "    for i in range(n):\n",
    "        for j in range(m):\n",
    "            if matrix[i][j]==0:\n",
    "                row[i]=1\n",
    "                col[j]=1\n",
    "    for i in range(n):\n",
    "        for j in range(m):\n",
    "            if row[i] or col[j]:\n",
    "                matrix[i][j]=0\n",
    "    return matrix"
   ]
  },
  {
   "cell_type": "code",
   "execution_count": 54,
   "metadata": {},
   "outputs": [
    {
     "data": {
      "text/plain": [
       "[[1, 0, 1], [0, 0, 0], [1, 0, 1]]"
      ]
     },
     "execution_count": 54,
     "metadata": {},
     "output_type": "execute_result"
    }
   ],
   "source": [
    "zeroMatrix(matrix1,n,m)"
   ]
  },
  {
   "cell_type": "code",
   "execution_count": null,
   "metadata": {},
   "outputs": [],
   "source": [
    "#Time Complexity:\n",
    "-TC=2(n*m)\n",
    "-sc=O(n)+O(m)\n",
    "#we need to improve space complexity as the above uses extra space"
   ]
  },
  {
   "cell_type": "markdown",
   "metadata": {},
   "source": [
    "### Optimal approach"
   ]
  },
  {
   "cell_type": "code",
   "execution_count": null,
   "metadata": {},
   "outputs": [],
   "source": [
    "- to optimize the space, we have to do everything in the matrix itself\n",
    "- So, instead of using two extra matrices row and col, we will use the 1st row and 1st column of the given matrix to keep a track of the cells that need to be marked with 0.\n",
    "- But here comes a problem. If we try to use the 1st row and 1st column to serve the purpose, the cell matrix[0][0] is taken twice.\n",
    "- To solve this problem we will take an extra variable col0 initialized with 1. \n",
    "- Now the entire 1st row of the matrix will serve the purpose of the row array. And the 1st column from (0,1) to (0,m-1) with the col0 variable will serve the purpose of the col array."
   ]
  },
  {
   "cell_type": "code",
   "execution_count": 58,
   "metadata": {},
   "outputs": [
    {
     "data": {
      "text/plain": [
       "[[1, 0, 1], [0, 0, 0], [1, 0, 1]]"
      ]
     },
     "execution_count": 58,
     "metadata": {},
     "output_type": "execute_result"
    }
   ],
   "source": [
    "def ZeroMatrix(matrix,n,m):\n",
    "    col0=1\n",
    "    for i in range(n):\n",
    "        for j in range(m):\n",
    "            if matrix[i][j]==0:\n",
    "                matrix[i][0]=0 #marking i-th row\n",
    "                if j!=0:\n",
    "                    matrix[0][j]=0\n",
    "                else:\n",
    "                    col0=0\n",
    "    for i in range(1,n):\n",
    "        for j in range(1,m):\n",
    "            if matrix[i][j]!=0:\n",
    "                if matrix[i][0]==0 or matrix[0][j]==0:\n",
    "                    matrix[i][j]=0\n",
    "    if matrix[0][0]==0:\n",
    "        for j in range(m):\n",
    "            matrix[0][j]=0\n",
    "    if col0==0:\n",
    "        for i in range(n):\n",
    "            matrix[i][0]=0\n",
    "    return matrix                     \n",
    "ZeroMatrix(matrix1,n,m)"
   ]
  },
  {
   "cell_type": "code",
   "execution_count": null,
   "metadata": {},
   "outputs": [],
   "source": []
  }
 ],
 "metadata": {
  "kernelspec": {
   "display_name": "Python 3",
   "language": "python",
   "name": "python3"
  },
  "language_info": {
   "codemirror_mode": {
    "name": "ipython",
    "version": 3
   },
   "file_extension": ".py",
   "mimetype": "text/x-python",
   "name": "python",
   "nbconvert_exporter": "python",
   "pygments_lexer": "ipython3",
   "version": "3.7.6"
  }
 },
 "nbformat": 4,
 "nbformat_minor": 4
}
