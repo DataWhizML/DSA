{
 "cells": [
  {
   "cell_type": "markdown",
   "id": "71ae354e",
   "metadata": {},
   "source": [
    "#Problem Statement: Given an array of intervals, merge all the overlapping intervals and return an array of non-overlapping intervals."
   ]
  },
  {
   "cell_type": "code",
   "execution_count": null,
   "id": "b655bbd0",
   "metadata": {},
   "outputs": [],
   "source": [
    "- Subinterval:\n",
    "    (1,3) (2,4) etc\n",
    "- \n"
   ]
  },
  {
   "cell_type": "markdown",
   "id": "05492dcf",
   "metadata": {},
   "source": [
    "**Brute force**"
   ]
  },
  {
   "cell_type": "code",
   "execution_count": null,
   "id": "3e8294c7",
   "metadata": {},
   "outputs": [],
   "source": [
    "- sort all the intervals(sort based on the lower bound and if its same then larger bound)\n",
    "- "
   ]
  },
  {
   "cell_type": "code",
   "execution_count": null,
   "id": "04eacf81",
   "metadata": {},
   "outputs": [],
   "source": []
  },
  {
   "cell_type": "code",
   "execution_count": null,
   "id": "48d6cee0",
   "metadata": {},
   "outputs": [],
   "source": []
  },
  {
   "cell_type": "code",
   "execution_count": null,
   "id": "863dc50d",
   "metadata": {},
   "outputs": [],
   "source": []
  },
  {
   "cell_type": "code",
   "execution_count": null,
   "id": "3d6ea317",
   "metadata": {},
   "outputs": [],
   "source": []
  },
  {
   "cell_type": "code",
   "execution_count": null,
   "id": "c6247ef1",
   "metadata": {},
   "outputs": [],
   "source": []
  }
 ],
 "metadata": {
  "kernelspec": {
   "display_name": "Python 3 (ipykernel)",
   "language": "python",
   "name": "python3"
  },
  "language_info": {
   "codemirror_mode": {
    "name": "ipython",
    "version": 3
   },
   "file_extension": ".py",
   "mimetype": "text/x-python",
   "name": "python",
   "nbconvert_exporter": "python",
   "pygments_lexer": "ipython3",
   "version": "3.11.5"
  }
 },
 "nbformat": 4,
 "nbformat_minor": 5
}
