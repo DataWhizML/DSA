{
 "cells": [
  {
   "cell_type": "markdown",
   "id": "7dca6cf7",
   "metadata": {},
   "source": [
    "Problem Statement: Given an array of N + 1 size, where each element is between 1 and N. Assuming there is only one duplicate number, your task is to find the duplicate number."
   ]
  },
  {
   "cell_type": "markdown",
   "id": "bf00d744",
   "metadata": {},
   "source": [
    "**Brute Force**"
   ]
  },
  {
   "cell_type": "code",
   "execution_count": 8,
   "id": "5ffee91a",
   "metadata": {},
   "outputs": [
    {
     "data": {
      "text/plain": [
       "3"
      ]
     },
     "execution_count": 8,
     "metadata": {},
     "output_type": "execute_result"
    }
   ],
   "source": [
    "def duplicate(arr):\n",
    "    N=len(arr)\n",
    "    arr1=[]\n",
    "    for i in arr:\n",
    "        if i not in arr1:\n",
    "            arr1.append(i)\n",
    "        elif i in arr1:\n",
    "            return i\n",
    "duplicate([3,1,3,4,2])  "
   ]
  },
  {
   "cell_type": "markdown",
   "id": "d0ae7dd2",
   "metadata": {},
   "source": [
    "1. Sort the array\n",
    "2. after that if there is a duplicate they will be adjacent to eo\n",
    "3. check if arr[i]=arr[i+1]\n",
    "4. if true, arr[i] is the duplicate."
   ]
  },
  {
   "cell_type": "code",
   "execution_count": 9,
   "id": "5030b519",
   "metadata": {},
   "outputs": [
    {
     "data": {
      "text/plain": [
       "2"
      ]
     },
     "execution_count": 9,
     "metadata": {},
     "output_type": "execute_result"
    }
   ],
   "source": [
    "def dupe(arr):\n",
    "    n=len(arr)\n",
    "    arr.sort()\n",
    "    for i in range(n-1):\n",
    "        if arr[i]==arr[i+1]:\n",
    "            return arr[i]\n",
    "dupe([1,3,4,2,2])"
   ]
  },
  {
   "cell_type": "code",
   "execution_count": null,
   "id": "855949ad",
   "metadata": {},
   "outputs": [],
   "source": [
    "#Complexity:\n",
    "TC: O(NlogN)\n",
    "SC: O(1)"
   ]
  },
  {
   "cell_type": "markdown",
   "id": "e9ba7862",
   "metadata": {},
   "source": [
    "**Better approach**"
   ]
  },
  {
   "cell_type": "markdown",
   "id": "852a2a2a",
   "metadata": {},
   "source": [
    "-using frequency array\n",
    "1. take a freq array of size n+1 and initialize it to 0\n",
    "2. Traverse through the array if the freq of an element is 0, then inc it by 1 else return the elemen\n",
    "    "
   ]
  },
  {
   "cell_type": "code",
   "execution_count": 11,
   "id": "7a868628",
   "metadata": {},
   "outputs": [
    {
     "data": {
      "text/plain": [
       "3"
      ]
     },
     "execution_count": 11,
     "metadata": {},
     "output_type": "execute_result"
    }
   ],
   "source": [
    "def finddupe(arr):\n",
    "    n=len(arr)\n",
    "    freq=[0]*(n+1)\n",
    "    for i in range(n):\n",
    "        if freq[arr[i]]==0:\n",
    "            freq[arr[i]]+=1\n",
    "        else:\n",
    "            return arr[i]\n",
    "    return 0\n",
    "finddupe([1,3,4,2,3])\n",
    "#if both index and value is stored in the freq array here, then this is called hashing"
   ]
  },
  {
   "cell_type": "code",
   "execution_count": null,
   "id": "51cb0896",
   "metadata": {},
   "outputs": [],
   "source": [
    "#Complexity:\n",
    "TC: O(N)\n",
    "SC: O(N)"
   ]
  },
  {
   "cell_type": "markdown",
   "id": "22dcd2be",
   "metadata": {},
   "source": [
    "**Optimal approach**"
   ]
  },
  {
   "cell_type": "code",
   "execution_count": null,
   "id": "04aa34c8",
   "metadata": {},
   "outputs": [],
   "source": [
    "- Linked list cycle method\n",
    "- Tortoise method\n",
    "- fast and slow pointers"
   ]
  },
  {
   "cell_type": "code",
   "execution_count": 13,
   "id": "8d021b67",
   "metadata": {},
   "outputs": [
    {
     "data": {
      "text/plain": [
       "3"
      ]
     },
     "execution_count": 13,
     "metadata": {},
     "output_type": "execute_result"
    }
   ],
   "source": [
    "def finding(nums):\n",
    "    slow=nums[0]# Initialize slow pointer to the first element\n",
    "    fast=nums[0]# Initialize fast pointer to the first element\n",
    "    while True: #Move the pointers until they meet in a cycle\n",
    "        slow=nums[slow]\n",
    "        fast=nums[nums[fast]]\n",
    "        if slow==fast:  # If they meet, there is a cycle\n",
    "            break\n",
    "    fast=nums[0]  # Reset the fast pointer to the beginning and move both pointers at the same pace\n",
    "    fast = nums[0]\n",
    "    while slow!=fast:\n",
    "        slow=nums[slow]\n",
    "        fast=nums[fast]\n",
    "    return slow\n",
    "finding([1,3,4,2,3])"
   ]
  },
  {
   "cell_type": "code",
   "execution_count": null,
   "id": "bab7fa4d",
   "metadata": {},
   "outputs": [],
   "source": [
    "#Complexity:\n",
    "TC: O(N)\n",
    "SC: O(1)"
   ]
  }
 ],
 "metadata": {
  "kernelspec": {
   "display_name": "Python 3 (ipykernel)",
   "language": "python",
   "name": "python3"
  },
  "language_info": {
   "codemirror_mode": {
    "name": "ipython",
    "version": 3
   },
   "file_extension": ".py",
   "mimetype": "text/x-python",
   "name": "python",
   "nbconvert_exporter": "python",
   "pygments_lexer": "ipython3",
   "version": "3.11.5"
  }
 },
 "nbformat": 4,
 "nbformat_minor": 5
}
