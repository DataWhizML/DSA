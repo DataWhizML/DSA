{
 "cells": [
  {
   "cell_type": "markdown",
   "id": "46128f56",
   "metadata": {},
   "source": [
    "Problem Statement: Given an array of N integers, write a program to return an element that occurs more than N/2 times in the given array. You may consider that such an element always exists in the array."
   ]
  },
  {
   "cell_type": "markdown",
   "id": "c678178e",
   "metadata": {},
   "source": [
    "**Brute Force**"
   ]
  },
  {
   "cell_type": "markdown",
   "id": "246e83c9",
   "metadata": {},
   "source": [
    "- one loop to select all the elements of the array one by one\n",
    "- for each element, run another loop to count its occurrence in the given array.\n",
    "- return any element which occurs more than the floor of N/2"
   ]
  },
  {
   "cell_type": "code",
   "execution_count": 3,
   "id": "f8885ccb",
   "metadata": {},
   "outputs": [
    {
     "name": "stdout",
     "output_type": "stream",
     "text": [
      "The majority element is: 2\n"
     ]
    }
   ],
   "source": [
    "def maj(arr):\n",
    "    N=len(arr)\n",
    "    for i in range(N):\n",
    "        cnt=0\n",
    "        for j in range(N):\n",
    "            if arr[j]==arr[i]:\n",
    "                cnt+=1\n",
    "        if cnt>(N//2):\n",
    "            return arr[i]\n",
    "    return -1\n",
    "arr = [2, 2, 1, 1, 1, 2, 2]\n",
    "ans = maj(arr)\n",
    "print(\"The majority element is:\", ans)        "
   ]
  },
  {
   "cell_type": "code",
   "execution_count": null,
   "id": "bafae3f7",
   "metadata": {},
   "outputs": [],
   "source": [
    "#complexity:\n",
    "TC: O(N^2)\n",
    "SC: O(1)"
   ]
  },
  {
   "cell_type": "markdown",
   "id": "02a09776",
   "metadata": {},
   "source": [
    "**Better approach**"
   ]
  },
  {
   "cell_type": "code",
   "execution_count": null,
   "id": "202dd145",
   "metadata": {},
   "outputs": [],
   "source": [
    "- use a hashmap and store as (key,value) pairs. (can also use freq array based on the size of nums)\n",
    "- here key-->element of the array, value--->count of the element\n",
    "- traverse the array and update the value of the key.\n",
    "- simultaneously check if the value is greater than the floor of N/2\n",
    "- if yes, return the key\n",
    "- else iterate forward"
   ]
  },
  {
   "cell_type": "code",
   "execution_count": 5,
   "id": "386b974d",
   "metadata": {},
   "outputs": [
    {
     "name": "stdout",
     "output_type": "stream",
     "text": [
      "The majority element is: 2\n"
     ]
    }
   ],
   "source": [
    "from collections import Counter\n",
    "def majj(arr):\n",
    "    n=len(arr)\n",
    "    counter=Counter(arr)\n",
    "    for num,count in counter.items():\n",
    "        if count>(n//2):\n",
    "            return num\n",
    "    return -1\n",
    "arr = [2, 2, 1, 1, 1, 2, 2]\n",
    "ans = majj(arr)\n",
    "print(\"The majority element is:\", ans)"
   ]
  },
  {
   "cell_type": "code",
   "execution_count": null,
   "id": "680d3640",
   "metadata": {},
   "outputs": [],
   "source": [
    "#Complexity:\n",
    "TC: O(N*logN)+O(N)\n",
    "    best case: O(N)\n",
    "    worst case: O(N^2)\n",
    "SC: O(N)"
   ]
  },
  {
   "cell_type": "markdown",
   "id": "79ae7943",
   "metadata": {},
   "source": [
    "**Optimal approach**"
   ]
  },
  {
   "cell_type": "markdown",
   "id": "e6476bb0",
   "metadata": {},
   "source": [
    "**Moore's Voting Algorithm**"
   ]
  },
  {
   "cell_type": "markdown",
   "id": "d4e5133a",
   "metadata": {},
   "source": [
    "- If the array contains a majority element, its occurrence must be greater than the floor(N/2).\n",
    "- The count of minority elements and majority elements is equal up to a certain point in the array.\n",
    "- So when we traverse through the array we try to keep track of the count of elements and the element itself for which we are tracking the count. \n",
    "- After traversing the whole array, we will check the element stored in the variable.\n",
    "- If the question states that the array must contain a majority element, the stored element will be that one but if the question does not state so, then we need to check if the stored element is the majority element or not.\n",
    "- If not, then the array does not contain any majority element."
   ]
  },
  {
   "cell_type": "code",
   "execution_count": 7,
   "id": "b1716c4b",
   "metadata": {},
   "outputs": [
    {
     "name": "stdout",
     "output_type": "stream",
     "text": [
      "The majority element is: 2\n"
     ]
    }
   ],
   "source": [
    "def majorityElement(arr):\n",
    "    n=len(arr)\n",
    "    cnt=0\n",
    "    el=None\n",
    "    for i in range(n):\n",
    "        if cnt==0:\n",
    "            cnt=1\n",
    "            el=arr[i]\n",
    "        elif el==arr[i]:\n",
    "            cnt+=1\n",
    "        else:\n",
    "            cnt-=1\n",
    "    # Checking if the stored element is the majority element  \n",
    "    cnt1=0\n",
    "    for i in range(n):\n",
    "        if arr[i]==el:\n",
    "            cnt1+=1\n",
    "        if cnt1>(n/2):\n",
    "            return el\n",
    "    return -1\n",
    "arr = [2, 2, 1, 1, 1, 2, 2]\n",
    "ans = majorityElement(arr)\n",
    "print(\"The majority element is:\", ans)"
   ]
  },
  {
   "cell_type": "markdown",
   "id": "cbfc9ec3",
   "metadata": {},
   "source": [
    "#complexity:\n",
    "- TC: O(N)+O(N)\n",
    "- Note: If the question states that the array must contain a majority element, in that case, we do not need the second check. Then the time complexity will boil down to O(N).\n",
    "- SC: O(1)"
   ]
  },
  {
   "cell_type": "code",
   "execution_count": null,
   "id": "1541a1bd",
   "metadata": {},
   "outputs": [],
   "source": []
  }
 ],
 "metadata": {
  "kernelspec": {
   "display_name": "Python 3 (ipykernel)",
   "language": "python",
   "name": "python3"
  },
  "language_info": {
   "codemirror_mode": {
    "name": "ipython",
    "version": 3
   },
   "file_extension": ".py",
   "mimetype": "text/x-python",
   "name": "python",
   "nbconvert_exporter": "python",
   "pygments_lexer": "ipython3",
   "version": "3.11.5"
  }
 },
 "nbformat": 4,
 "nbformat_minor": 5
}
