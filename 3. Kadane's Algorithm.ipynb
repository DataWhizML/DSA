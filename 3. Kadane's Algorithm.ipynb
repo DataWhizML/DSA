{
 "cells": [
  {
   "cell_type": "code",
   "execution_count": null,
   "metadata": {},
   "outputs": [],
   "source": [
    "-Problem Statement: Given an integer array arr, find the contiguous subarray (containing at least one number) which\n",
    "has the largest sum and returns its sum and prints the subarray."
   ]
  },
  {
   "cell_type": "code",
   "execution_count": null,
   "metadata": {},
   "outputs": [],
   "source": [
    "-subarray: contiguous part of the subarray including single element or the full array"
   ]
  },
  {
   "cell_type": "markdown",
   "metadata": {},
   "source": [
    "**Brute Force**"
   ]
  },
  {
   "cell_type": "code",
   "execution_count": 12,
   "metadata": {},
   "outputs": [
    {
     "name": "stdout",
     "output_type": "stream",
     "text": [
      "\n",
      "-2 \n",
      "-2 1 \n",
      "-2 1 -3 \n",
      "-2 1 -3 4 \n",
      "-2 1 -3 4 -1 \n",
      "-2 1 -3 4 -1 2 \n",
      "-2 1 -3 4 -1 2 1 \n",
      "-2 1 -3 4 -1 2 1 -5 \n",
      "\n",
      "1 \n",
      "1 -3 \n",
      "1 -3 4 \n",
      "1 -3 4 -1 \n",
      "1 -3 4 -1 2 \n",
      "1 -3 4 -1 2 1 \n",
      "1 -3 4 -1 2 1 -5 \n",
      "\n",
      "-3 \n",
      "-3 4 \n",
      "-3 4 -1 \n",
      "-3 4 -1 2 \n",
      "-3 4 -1 2 1 \n",
      "-3 4 -1 2 1 -5 \n",
      "\n",
      "4 \n",
      "4 -1 \n",
      "4 -1 2 \n",
      "4 -1 2 1 \n",
      "4 -1 2 1 -5 \n",
      "\n",
      "-1 \n",
      "-1 2 \n",
      "-1 2 1 \n",
      "-1 2 1 -5 \n",
      "\n",
      "2 \n",
      "2 1 \n",
      "2 1 -5 \n",
      "\n",
      "1 \n",
      "1 -5 \n",
      "\n",
      "-5 \n",
      "\n"
     ]
    }
   ],
   "source": [
    "#Generating all subarrays\n",
    "nums = [-2,1,-3,4,-1,2,1,-5,4]\n",
    "n=len(nums)\n",
    "l=[]\n",
    "for i in range(n):\n",
    "    for j in range(0,n-i):\n",
    "        for k in range(i,i+j):\n",
    "             print(nums[k],end=' ')\n",
    "        print()               "
   ]
  },
  {
   "cell_type": "code",
   "execution_count": 1,
   "metadata": {},
   "outputs": [],
   "source": [
    "def maxSubarraySum(arr,n):    \n",
    "    maxx=-sys.maxsize-1\n",
    "    for i in range(n):\n",
    "        for j in range(i,n):\n",
    "            sum=0\n",
    "            for k in range(i,j):\n",
    "                sum+=arr[k]\n",
    "            maxx=max(sum,maxx)\n",
    "    return maxx"
   ]
  },
  {
   "cell_type": "code",
   "execution_count": 3,
   "metadata": {},
   "outputs": [
    {
     "name": "stdout",
     "output_type": "stream",
     "text": [
      "The maximum subarray sum is: 6\n"
     ]
    }
   ],
   "source": [
    "import sys\n",
    "if __name__ == \"__main__\":\n",
    "    arr = [-2, 1, -3, 4, -1, 2, 1, -5, 4]\n",
    "    n = len(arr)\n",
    "    maxSum = maxSubarraySum(arr, n)\n",
    "    print(\"The maximum subarray sum is:\", maxSum)"
   ]
  },
  {
   "cell_type": "code",
   "execution_count": null,
   "metadata": {},
   "outputs": [],
   "source": [
    "TC: ~~O(N^3)\n",
    "SC: O(1)"
   ]
  },
  {
   "cell_type": "markdown",
   "metadata": {},
   "source": [
    "**Better**"
   ]
  },
  {
   "cell_type": "code",
   "execution_count": 5,
   "metadata": {},
   "outputs": [],
   "source": [
    "def maxSubarraySum(arr,n):    \n",
    "    maxx=-sys.maxsize-1\n",
    "    for i in range(n):\n",
    "        sum=0\n",
    "        for j in range(i,n):\n",
    "            sum+=arr[j]\n",
    "            maxx=max(sum,maxx)\n",
    "    return maxx"
   ]
  },
  {
   "cell_type": "code",
   "execution_count": 6,
   "metadata": {},
   "outputs": [
    {
     "name": "stdout",
     "output_type": "stream",
     "text": [
      "The maximum subarray sum is: 6\n"
     ]
    }
   ],
   "source": [
    "import sys\n",
    "if __name__ == \"__main__\":\n",
    "    arr = [-2, 1, -3, 4, -1, 2, 1, -5, 4]\n",
    "    n = len(arr)\n",
    "    maxSum = maxSubarraySum(arr, n)\n",
    "    print(\"The maximum subarray sum is:\", maxSum)"
   ]
  },
  {
   "cell_type": "code",
   "execution_count": null,
   "metadata": {},
   "outputs": [],
   "source": [
    "TC: O(N^2)\n",
    "SC: O(1)"
   ]
  },
  {
   "cell_type": "markdown",
   "metadata": {},
   "source": [
    "**Optimal--Kadane's algo**"
   ]
  },
  {
   "cell_type": "code",
   "execution_count": 11,
   "metadata": {},
   "outputs": [],
   "source": [
    "def maxSubarraySum(arr,n):    \n",
    "    maxx=-sys.maxsize-1\n",
    "    sum=0\n",
    "    for i in range(n):\n",
    "            sum+=arr[i]\n",
    "            if sum>maxx:\n",
    "                maxx=sum\n",
    "            if sum<0:\n",
    "                sum=0\n",
    "    return maxx"
   ]
  },
  {
   "cell_type": "code",
   "execution_count": 12,
   "metadata": {},
   "outputs": [
    {
     "name": "stdout",
     "output_type": "stream",
     "text": [
      "The maximum subarray sum is: 6\n"
     ]
    }
   ],
   "source": [
    "import sys\n",
    "if __name__ == \"__main__\":\n",
    "    arr = [-2, 1, -3, 4, -1, 2, 1, -5, 4]\n",
    "    n = len(arr)\n",
    "    maxSum = maxSubarraySum(arr, n)\n",
    "    print(\"The maximum subarray sum is:\", maxSum)"
   ]
  },
  {
   "cell_type": "code",
   "execution_count": null,
   "metadata": {},
   "outputs": [],
   "source": [
    "TC: O(N)\n",
    "SC: O(1)"
   ]
  },
  {
   "cell_type": "markdown",
   "metadata": {},
   "source": [
    "**Follow-up qn**\n",
    "- There might be more than one subarray with the maximum sum. We need to print any of them."
   ]
  },
  {
   "cell_type": "code",
   "execution_count": null,
   "metadata": {},
   "outputs": [],
   "source": [
    "def maxSubarraySum(arr,n):    \n",
    "    maxx=-sys.maxsize-1\n",
    "    sum=0\n",
    "    ans_start=-1\n",
    "    ans_end=-1\n",
    "    for i in range(n):\n",
    "        if sum==0: start=i\n",
    "        sum+=arr[i]\n",
    "        if sum>maxx:\n",
    "            maxx=sum\n",
    "            ans_start=start\n",
    "            ans_end=i\n",
    "        if sum<0:\n",
    "            sum=0\n",
    "    return maxx"
   ]
  },
  {
   "cell_type": "code",
   "execution_count": null,
   "metadata": {},
   "outputs": [],
   "source": [
    "TC: O(N)\n",
    "SC: O(1)"
   ]
  }
 ],
 "metadata": {
  "kernelspec": {
   "display_name": "Python 3 (ipykernel)",
   "language": "python",
   "name": "python3"
  },
  "language_info": {
   "codemirror_mode": {
    "name": "ipython",
    "version": 3
   },
   "file_extension": ".py",
   "mimetype": "text/x-python",
   "name": "python",
   "nbconvert_exporter": "python",
   "pygments_lexer": "ipython3",
   "version": "3.11.5"
  }
 },
 "nbformat": 4,
 "nbformat_minor": 4
}
