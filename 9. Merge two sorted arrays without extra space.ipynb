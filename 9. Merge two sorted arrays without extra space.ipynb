{
 "cells": [
  {
   "cell_type": "markdown",
   "id": "47940ee4",
   "metadata": {},
   "source": [
    "Problem statement: Given two sorted arrays arr1[] and arr2[] of sizes n and m in non-decreasing order. Merge them in sorted order. Modify arr1 so that it contains the first N elements and modify arr2 so that it contains the last M elements."
   ]
  },
  {
   "cell_type": "markdown",
   "id": "3953343e",
   "metadata": {},
   "source": [
    "**Brute Force**"
   ]
  },
  {
   "cell_type": "code",
   "execution_count": null,
   "id": "04ea40f4",
   "metadata": {},
   "outputs": [],
   "source": [
    "#Logic:\n",
    "- create a 3rd array\n",
    "- 2 pointers- in both the arrays and iterate\n",
    "- If arr1[left] < arr2[right]: We will insert the element arr1[left] into the array and increase the left pointer by 1.\n",
    "- If arr2[right] < arr1[left]: We will insert the element arr2[right] into the array and increase the right pointer by 1.\n",
    "- If arr1[left] == arr2[right]: Insert any of the elements and increase that particular pointer by 1.\n",
    "- If one of the pointers reaches the end, then we will only move the other pointer and insert the rest of the elements of that particular array into the third array\n",
    "- Now, from sorted array arr3[], we will copy first n(size of arr1[]) elements to arr1[], and the next m(size of arr2[]) elements to arr2[]."
   ]
  },
  {
   "cell_type": "code",
   "execution_count": null,
   "id": "d4e49a2f",
   "metadata": {},
   "outputs": [],
   "source": [
    "#Code:\n"
   ]
  }
 ],
 "metadata": {
  "kernelspec": {
   "display_name": "Python 3 (ipykernel)",
   "language": "python",
   "name": "python3"
  },
  "language_info": {
   "codemirror_mode": {
    "name": "ipython",
    "version": 3
   },
   "file_extension": ".py",
   "mimetype": "text/x-python",
   "name": "python",
   "nbconvert_exporter": "python",
   "pygments_lexer": "ipython3",
   "version": "3.11.5"
  }
 },
 "nbformat": 4,
 "nbformat_minor": 5
}
