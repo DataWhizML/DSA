{
 "cells": [
  {
   "cell_type": "markdown",
   "id": "8c048d81",
   "metadata": {},
   "source": [
    "**Brute force**"
   ]
  },
  {
   "cell_type": "markdown",
   "id": "32e30575",
   "metadata": {},
   "source": [
    "- use any of the sorting algorithms\n",
    "- Merge sort"
   ]
  },
  {
   "cell_type": "code",
   "execution_count": null,
   "id": "85aa9480",
   "metadata": {},
   "outputs": [],
   "source": [
    "TC: O(nlog(n))\n",
    "SC: O(1)"
   ]
  },
  {
   "cell_type": "markdown",
   "id": "f0dc514b",
   "metadata": {},
   "source": [
    "**Better**"
   ]
  },
  {
   "cell_type": "markdown",
   "id": "5004b1fa",
   "metadata": {},
   "source": [
    "-keep a count of 0s,1s and 2s in 3 variables\n",
    "- manually overwrite the array acc to the numbers obtained\n",
    "- three loops in overall"
   ]
  },
  {
   "cell_type": "code",
   "execution_count": 2,
   "id": "4046937d",
   "metadata": {},
   "outputs": [],
   "source": [
    "def sortArray(arr):    \n",
    "    count0=0\n",
    "    count1=0\n",
    "    count2=0\n",
    "    for num in arr:\n",
    "        if num==0:\n",
    "            count0+=1\n",
    "        elif num==1:\n",
    "            count1+=1\n",
    "        else:\n",
    "            count2+=1\n",
    "    for i in range(count0):\n",
    "        arr[i]=0\n",
    "    for i in range(count0,count0+count1):\n",
    "        arr[i]=1\n",
    "    for i in range(count0+count1,len(arr)):\n",
    "        arr[i]=2"
   ]
  },
  {
   "cell_type": "code",
   "execution_count": 3,
   "id": "9d1107c8",
   "metadata": {},
   "outputs": [
    {
     "name": "stdout",
     "output_type": "stream",
     "text": [
      "After sorting:\n",
      "0 0 1 1 2 2 \n"
     ]
    }
   ],
   "source": [
    "n = 6\n",
    "arr = [0, 2, 1, 2, 0, 1]\n",
    "sortArray(arr)\n",
    "print(\"After sorting:\")\n",
    "for num in arr:\n",
    "    print(num, end=\" \")\n",
    "print()"
   ]
  },
  {
   "cell_type": "code",
   "execution_count": null,
   "id": "972b2544",
   "metadata": {},
   "outputs": [],
   "source": [
    "TC: O(2n)\n",
    "SC: O(1)"
   ]
  },
  {
   "cell_type": "markdown",
   "id": "5cf1a0f0",
   "metadata": {},
   "source": [
    "**Optimal**"
   ]
  },
  {
   "cell_type": "markdown",
   "id": "2b312b68",
   "metadata": {},
   "source": [
    "**Dutch National Flag Algorithm**"
   ]
  },
  {
   "cell_type": "code",
   "execution_count": null,
   "id": "d50a47a5",
   "metadata": {},
   "outputs": [],
   "source": [
    "- 3 pointers: low, mid, high\n",
    "\n",
    "- 3 rules:\n",
    "    [0....low-1]-------->0 extreme left\n",
    "    [low....mid-1]------>1\n",
    "    [mid.....high]------>unsorted\n",
    "    [high+1...n-1]------>2 extreme right\n"
   ]
  },
  {
   "cell_type": "code",
   "execution_count": null,
   "id": "60d01662",
   "metadata": {},
   "outputs": [],
   "source": [
    "a[mid]==0----------swap(a[low],a[mid])\n",
    "                   low++, mid++\n",
    "a[mid]==1----------mid++\n",
    "\n",
    "a[mid]==2----------swap(a[mid],a[high])\n",
    "                   high--"
   ]
  },
  {
   "cell_type": "code",
   "execution_count": 4,
   "id": "c5d9527c",
   "metadata": {},
   "outputs": [],
   "source": [
    "def sortArray(arr):\n",
    "    low=0\n",
    "    mid=0\n",
    "    high=len(arr)-1\n",
    "    while mid<=high:\n",
    "        if arr[mid]==0:\n",
    "            arr[low],arr[mid]=arr[mid],arr[low]\n",
    "            low+=1\n",
    "            mid+=1\n",
    "        elif arr[mid]==1:\n",
    "            mid+=1\n",
    "        else:\n",
    "            arr[mid],arr[high]=arr[high],arr[mid]\n",
    "            high-=1"
   ]
  },
  {
   "cell_type": "code",
   "execution_count": 5,
   "id": "9b9beb12",
   "metadata": {},
   "outputs": [
    {
     "name": "stdout",
     "output_type": "stream",
     "text": [
      "After sorting:\n",
      "0 0 1 1 2 2 \n"
     ]
    }
   ],
   "source": [
    "n = 6\n",
    "arr = [0, 2, 1, 2, 0, 1]\n",
    "sortArray(arr)\n",
    "print(\"After sorting:\")\n",
    "for num in arr:\n",
    "    print(num, end=\" \")\n",
    "print()"
   ]
  },
  {
   "cell_type": "code",
   "execution_count": null,
   "id": "7c150e6a",
   "metadata": {},
   "outputs": [],
   "source": [
    "TC: O(n)\n",
    "SC: O(1)"
   ]
  }
 ],
 "metadata": {
  "kernelspec": {
   "display_name": "Python 3 (ipykernel)",
   "language": "python",
   "name": "python3"
  },
  "language_info": {
   "codemirror_mode": {
    "name": "ipython",
    "version": 3
   },
   "file_extension": ".py",
   "mimetype": "text/x-python",
   "name": "python",
   "nbconvert_exporter": "python",
   "pygments_lexer": "ipython3",
   "version": "3.11.5"
  }
 },
 "nbformat": 4,
 "nbformat_minor": 5
}
