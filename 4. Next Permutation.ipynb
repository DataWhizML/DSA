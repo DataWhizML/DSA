{
 "cells": [
  {
   "cell_type": "markdown",
   "id": "bbe68670",
   "metadata": {},
   "source": [
    "**Brute Force**"
   ]
  },
  {
   "cell_type": "markdown",
   "id": "8e362199",
   "metadata": {},
   "source": [
    "- Generate all permutations in sorted order\n",
    "- Linear search\n",
    "- Next Index permutation\n",
    "- If it doesn't exist, then the first one will be the answer"
   ]
  },
  {
   "cell_type": "markdown",
   "id": "e187b543",
   "metadata": {},
   "source": [
    "- TC: n!*n-----extremely high complexity\n",
    "- SC: "
   ]
  },
  {
   "cell_type": "markdown",
   "id": "e9799568",
   "metadata": {},
   "source": [
    "- no better approach in Python"
   ]
  },
  {
   "cell_type": "markdown",
   "id": "549b0ae3",
   "metadata": {},
   "source": [
    "**Optimal Soln**"
   ]
  },
  {
   "cell_type": "code",
   "execution_count": null,
   "id": "5e8ad535",
   "metadata": {},
   "outputs": [],
   "source": [
    "arr[]=[2,1,5,4,3,0,0]\n",
    "1. longer prefix match-----> a[i]<a[i+1]--breaking point\n",
    "2. find >1, but the smallest one\n",
    "3. try to place remaining in sorted order  "
   ]
  },
  {
   "cell_type": "code",
   "execution_count": 8,
   "id": "0226e5e4",
   "metadata": {},
   "outputs": [],
   "source": [
    "arr=[2,1,5,4,3,0,0]"
   ]
  },
  {
   "cell_type": "code",
   "execution_count": 9,
   "id": "74ff837d",
   "metadata": {},
   "outputs": [
    {
     "name": "stdout",
     "output_type": "stream",
     "text": [
      "[0, 0, 5, 2, 1, 3, 4]\n"
     ]
    }
   ],
   "source": [
    "#1. find out the particular index\n",
    "ind=-1\n",
    "n=len(arr)\n",
    "i=n-2\n",
    "while i>0:\n",
    "    if arr[i]<arr[i+1]:\n",
    "        ind=i\n",
    "        break\n",
    "    i=i-1 \n",
    "    \n",
    "    if ind==-1: #edge case\n",
    "        arr.reverse()\n",
    "#         return a\n",
    "    \n",
    "for i in range(n-1,ind,-1):\n",
    "    if arr[i]>arr[ind]:\n",
    "        arr[i], arr[ind] = arr[ind], arr[i]#swap(a[i],a[ind])\n",
    "        break\n",
    "arr[ind+1:]=reversed(arr[ind+1:])#rev(arr,ind+1,n-1)\n",
    "print(arr)"
   ]
  },
  {
   "cell_type": "code",
   "execution_count": null,
   "id": "83f52105",
   "metadata": {},
   "outputs": [],
   "source": [
    "#code:\n"
   ]
  },
  {
   "cell_type": "code",
   "execution_count": null,
   "id": "5de6be63",
   "metadata": {},
   "outputs": [],
   "source": []
  }
 ],
 "metadata": {
  "kernelspec": {
   "display_name": "Python 3 (ipykernel)",
   "language": "python",
   "name": "python3"
  },
  "language_info": {
   "codemirror_mode": {
    "name": "ipython",
    "version": 3
   },
   "file_extension": ".py",
   "mimetype": "text/x-python",
   "name": "python",
   "nbconvert_exporter": "python",
   "pygments_lexer": "ipython3",
   "version": "3.11.5"
  }
 },
 "nbformat": 4,
 "nbformat_minor": 5
}
