{
 "cells": [
  {
   "cell_type": "markdown",
   "id": "73698bf0",
   "metadata": {},
   "source": [
    "Problem Statement: Given an array of N integers. Find the elements that appear more than N/3 times in the array. If no such element exists, return an empty vector."
   ]
  },
  {
   "cell_type": "markdown",
   "id": "3578b9dc",
   "metadata": {},
   "source": [
    "**Intuition**"
   ]
  },
  {
   "cell_type": "markdown",
   "id": "85695ebd",
   "metadata": {},
   "source": [
    "- there can be a maximum of two integers that can occur more than floor(N/3) times."
   ]
  },
  {
   "cell_type": "markdown",
   "id": "f9091039",
   "metadata": {},
   "source": [
    "**Brute Force**"
   ]
  },
  {
   "cell_type": "markdown",
   "id": "a1f99341",
   "metadata": {},
   "source": [
    "- a loop to select all elements of the array one by one.\n",
    "- for each unique element, we will run another loop and count its occurrence in the given array.\n",
    "- if any element occurs more than the floor of (N/3), we will include it in our answer.\n",
    "- while traversing if we find any element that is already included in our answer, we will skip it."
   ]
  },
  {
   "cell_type": "code",
   "execution_count": null,
   "id": "4c1c84f7",
   "metadata": {},
   "outputs": [],
   "source": [
    "def majEl(arr):\n",
    "    n=len(arr)\n",
    "    ls=[]\n",
    "    for i in range(n):\n",
    "        if len(ls)==0 or ls[0]!=v[i]"
   ]
  },
  {
   "cell_type": "code",
   "execution_count": null,
   "id": "3bc56837",
   "metadata": {},
   "outputs": [],
   "source": []
  }
 ],
 "metadata": {
  "kernelspec": {
   "display_name": "Python 3 (ipykernel)",
   "language": "python",
   "name": "python3"
  },
  "language_info": {
   "codemirror_mode": {
    "name": "ipython",
    "version": 3
   },
   "file_extension": ".py",
   "mimetype": "text/x-python",
   "name": "python",
   "nbconvert_exporter": "python",
   "pygments_lexer": "ipython3",
   "version": "3.11.5"
  }
 },
 "nbformat": 4,
 "nbformat_minor": 5
}
