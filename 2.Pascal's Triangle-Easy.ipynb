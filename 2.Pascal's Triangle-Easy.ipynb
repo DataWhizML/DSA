{
 "cells": [
  {
   "cell_type": "markdown",
   "metadata": {},
   "source": [
    "### Q2: \n",
    "Given the number of rows n. \n",
    "Print the first n rows of Pascal’s triangle."
   ]
  },
  {
   "cell_type": "code",
   "execution_count": null,
   "metadata": {},
   "outputs": [],
   "source": [
    "- In Pascal’s triangle, each number is the sum of the two numbers directly above it \n",
    "- "
   ]
  },
  {
   "cell_type": "code",
   "execution_count": null,
   "metadata": {},
   "outputs": [],
   "source": [
    "3 types of problems:\n",
    "    1. give a particular element\n",
    "    2. print the particular row\n",
    "    3. print the whole triangle "
   ]
  },
  {
   "cell_type": "code",
   "execution_count": null,
   "metadata": {},
   "outputs": [],
   "source": [
    "1st type of problem:\n",
    "r-1Cc-1"
   ]
  },
  {
   "cell_type": "code",
   "execution_count": 5,
   "metadata": {},
   "outputs": [
    {
     "data": {
      "text/plain": [
       "120.0"
      ]
     },
     "execution_count": 5,
     "metadata": {},
     "output_type": "execute_result"
    }
   ],
   "source": [
    "def nCr(n,r):\n",
    "    res=1\n",
    "    for i in range(r):\n",
    "        res=res*(n-i)\n",
    "        res=res/(i+1) \n",
    "    return res\n",
    "nCr(10,3)        "
   ]
  },
  {
   "cell_type": "code",
   "execution_count": null,
   "metadata": {},
   "outputs": [],
   "source": [
    "#Time complexity-----O(r)\n",
    "#Space complexity----O(1)"
   ]
  },
  {
   "cell_type": "code",
   "execution_count": null,
   "metadata": {},
   "outputs": [],
   "source": [
    "2nd type of problem:\n",
    "print any given row\n",
    "-nth row always has n elements\n",
    "-every element has the formula of r-1Cc-1"
   ]
  },
  {
   "cell_type": "markdown",
   "metadata": {},
   "source": [
    "**Brute Force**"
   ]
  },
  {
   "cell_type": "code",
   "execution_count": 18,
   "metadata": {},
   "outputs": [
    {
     "name": "stdout",
     "output_type": "stream",
     "text": [
      "enter number of rows: 6\n",
      "1 5.0 10.0 10.0 5.0 1.0 "
     ]
    }
   ],
   "source": [
    "n=eval(input(\"enter number of rows: \"))\n",
    "for c in range(1,n+1):\n",
    "    print(nCr(n-1,c-1),end=' ')    "
   ]
  },
  {
   "cell_type": "code",
   "execution_count": null,
   "metadata": {},
   "outputs": [],
   "source": [
    "#Time complexity: O(n*r)\n",
    "#Space complexity:O(1)---no extra space"
   ]
  },
  {
   "cell_type": "markdown",
   "metadata": {},
   "source": [
    "**Better**"
   ]
  },
  {
   "cell_type": "code",
   "execution_count": null,
   "metadata": {},
   "outputs": [],
   "source": [
    "- to improve the time complexity"
   ]
  },
  {
   "cell_type": "code",
   "execution_count": 21,
   "metadata": {},
   "outputs": [
    {
     "name": "stdout",
     "output_type": "stream",
     "text": [
      "enter number of rows6\n",
      "1 5.0 10.0 10.0 5.0 1.0 "
     ]
    }
   ],
   "source": [
    "n=eval(input(\"enter number of rows\"))\n",
    "ans=1 #first\n",
    "print(ans, end=\" \")\n",
    "for i in range(1,n):\n",
    "    ans=ans*(n-i)\n",
    "    ans=ans/i\n",
    "    print(ans,end=' ')"
   ]
  },
  {
   "cell_type": "code",
   "execution_count": null,
   "metadata": {},
   "outputs": [],
   "source": [
    "#Time complexity: O(n)\n",
    "#Space complexity: O(!)"
   ]
  },
  {
   "cell_type": "code",
   "execution_count": null,
   "metadata": {},
   "outputs": [],
   "source": [
    "3rd type of problem:\n",
    "-print the whole triangle\n",
    "-we have to print a list of lists \n",
    "-the first list contains elements of a row\n",
    "-all the lists are stored in another list"
   ]
  },
  {
   "cell_type": "code",
   "execution_count": 25,
   "metadata": {},
   "outputs": [
    {
     "name": "stdout",
     "output_type": "stream",
     "text": [
      "enter number of rows6\n",
      "[[], [1], [1, 1], [1, 1, 2.0], [1, 1, 3.0, 3.0], [1, 1, 4.0, 6.0, 4.0]]\n"
     ]
    }
   ],
   "source": [
    "n=eval(input(\"enter number of rows\"))\n",
    "ans=[]\n",
    "for i in range(n):\n",
    "    templs=[]\n",
    "    for j in range(i):\n",
    "        templs.append(nCr(i-1,j-1))\n",
    "    ans.append(templs)\n",
    "print(ans)       "
   ]
  },
  {
   "cell_type": "code",
   "execution_count": 22,
   "metadata": {},
   "outputs": [
    {
     "data": {
      "text/plain": [
       "[]"
      ]
     },
     "execution_count": 22,
     "metadata": {},
     "output_type": "execute_result"
    }
   ],
   "source": [
    "ans=[]\n",
    "ans"
   ]
  },
  {
   "cell_type": "code",
   "execution_count": null,
   "metadata": {},
   "outputs": [],
   "source": [
    "#Time Complexity: O(n*n*r)--almost O(n^3)\n",
    "#Space Complexity: "
   ]
  },
  {
   "cell_type": "markdown",
   "metadata": {},
   "source": [
    "**Optimal**"
   ]
  },
  {
   "cell_type": "code",
   "execution_count": null,
   "metadata": {},
   "outputs": [],
   "source": [
    "- reducing time complexity to O(n^2)"
   ]
  },
  {
   "cell_type": "code",
   "execution_count": 30,
   "metadata": {},
   "outputs": [
    {
     "data": {
      "text/plain": [
       "[[1], [1, 1.0], [1, 2.0, 1.0], [1, 3.0, 3.0, 1.0], [1, 4.0, 6.0, 4.0, 1.0]]"
      ]
     },
     "execution_count": 30,
     "metadata": {},
     "output_type": "execute_result"
    }
   ],
   "source": [
    "def GenerateRow(n):\n",
    "    ans=1\n",
    "    ans_row=[]\n",
    "    ans_row.append(1)\n",
    "    for i in range(1,n):\n",
    "        ans=ans*(n-i)\n",
    "        ans=ans/i\n",
    "        ans_row.append(ans)\n",
    "    return ans_row\n",
    "def PascalTriangle(N):\n",
    "    ans=[]\n",
    "    for i in range(1,N+1):\n",
    "        ans.append(GenerateRow(i))\n",
    "    return ans\n",
    "PascalTriangle(5)"
   ]
  }
 ],
 "metadata": {
  "kernelspec": {
   "display_name": "Python 3",
   "language": "python",
   "name": "python3"
  },
  "language_info": {
   "codemirror_mode": {
    "name": "ipython",
    "version": 3
   },
   "file_extension": ".py",
   "mimetype": "text/x-python",
   "name": "python",
   "nbconvert_exporter": "python",
   "pygments_lexer": "ipython3",
   "version": "3.7.6"
  }
 },
 "nbformat": 4,
 "nbformat_minor": 4
}
