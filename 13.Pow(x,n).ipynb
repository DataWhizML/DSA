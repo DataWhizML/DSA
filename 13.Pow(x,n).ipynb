{
 "cells": [
  {
   "cell_type": "markdown",
   "id": "93ded0a9",
   "metadata": {},
   "source": [
    "Problem Statement: Given a double x and integer n, calculate x raised to power n. Basically Implement pow(x, n)."
   ]
  },
  {
   "cell_type": "code",
   "execution_count": 20,
   "id": "b36863ff",
   "metadata": {},
   "outputs": [
    {
     "data": {
      "text/plain": [
       "1667.9881"
      ]
     },
     "execution_count": 20,
     "metadata": {},
     "output_type": "execute_result"
    }
   ],
   "source": [
    "def power(x,n):\n",
    "    exp=1.0\n",
    "    for i in range(n):\n",
    "        exp=exp*x\n",
    "    return exp\n",
    "round(pow(2.10000,10),5)"
   ]
  },
  {
   "cell_type": "code",
   "execution_count": null,
   "id": "b3b6c11c",
   "metadata": {},
   "outputs": [],
   "source": [
    "#complexity:\n",
    "TS: O(N)\n",
    "SC: O(1)"
   ]
  },
  {
   "cell_type": "markdown",
   "id": "a2099a1b",
   "metadata": {},
   "source": [
    "**Optimal approach**"
   ]
  },
  {
   "cell_type": "markdown",
   "id": "07028320",
   "metadata": {},
   "source": [
    "#using Binary exponentiation\n",
    "- initialize ans as 1.0 and store a duplicate copy of nn \n",
    "- check if nn is a negative number, if so make it positive.\n",
    "- Keep on iterating until nn is greater than zero,\n",
    "- Now if nn is an odd power then multiply x with ans ans reduce nn by 1. \n",
    "- Else multiply x with itself and divide nn by two.\n",
    "- Now after the entire binary exponentiation is complete and nn becomes zero, check if n is a negative value we know the answer will be 1 by and."
   ]
  },
  {
   "cell_type": "code",
   "execution_count": 23,
   "id": "5eebf013",
   "metadata": {},
   "outputs": [
    {
     "name": "stdout",
     "output_type": "stream",
     "text": [
      "1024.0\n"
     ]
    }
   ],
   "source": [
    "def Mypow(x:float,n:int)->float:\n",
    "    ans=1.0\n",
    "    nn=n\n",
    "    if nn<0:\n",
    "        nn=-1*nn\n",
    "    while nn:\n",
    "        if nn%2:\n",
    "            ans=ans*x\n",
    "            nn=nn-1\n",
    "        else:\n",
    "            x=x*x\n",
    "            nn=nn//2\n",
    "    if n<0:\n",
    "        ans=1.0/ans\n",
    "    return ans\n",
    "if __name__=='__main__':\n",
    "    print(Mypow(2,10))"
   ]
  },
  {
   "cell_type": "code",
   "execution_count": null,
   "id": "a2cfcb59",
   "metadata": {},
   "outputs": [],
   "source": [
    "#Complexity:\n",
    "TC: O(logn)\n",
    "SC: O(1)"
   ]
  }
 ],
 "metadata": {
  "kernelspec": {
   "display_name": "Python 3 (ipykernel)",
   "language": "python",
   "name": "python3"
  },
  "language_info": {
   "codemirror_mode": {
    "name": "ipython",
    "version": 3
   },
   "file_extension": ".py",
   "mimetype": "text/x-python",
   "name": "python",
   "nbconvert_exporter": "python",
   "pygments_lexer": "ipython3",
   "version": "3.11.5"
  }
 },
 "nbformat": 4,
 "nbformat_minor": 5
}
