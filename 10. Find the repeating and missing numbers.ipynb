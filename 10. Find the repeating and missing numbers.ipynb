{
 "cells": [
  {
   "cell_type": "markdown",
   "id": "676a47c1",
   "metadata": {},
   "source": [
    "###Problem Statement: \n",
    "You are given a read-only array of N integers with values also in the range [1, N] both inclusive. Each integer appears exactly once except A which appears twice and B which is missing. The task is to find the repeating and missing numbers A and B where A repeats twice and B is missing."
   ]
  },
  {
   "cell_type": "code",
   "execution_count": 1,
   "id": "21819ee9",
   "metadata": {},
   "outputs": [
    {
     "name": "stdout",
     "output_type": "stream",
     "text": [
      "2\n",
      "4\n"
     ]
    }
   ],
   "source": [
    "list1=[1,2,2,3,5]\n",
    "#A=2\n",
    "#B=4\n",
    "for i in range(1,5+1):\n",
    "    a=list1.count(i)\n",
    "    if a==0:\n",
    "        B=i\n",
    "    elif a==2:\n",
    "        A=i\n",
    "print(A)\n",
    "print(B)    "
   ]
  },
  {
   "cell_type": "code",
   "execution_count": 9,
   "id": "07cfce9e",
   "metadata": {},
   "outputs": [
    {
     "name": "stdout",
     "output_type": "stream",
     "text": [
      "The repeating and missing numbers are: { 5 ,  8 }\n",
      "\n"
     ]
    }
   ],
   "source": [
    "#Brute force:\n",
    "def find(a):\n",
    "    n=len(a)\n",
    "    repeating, missing=-1,-1\n",
    "    for i in range(1,n+1):\n",
    "        cnt=0\n",
    "        for j in range(n):\n",
    "            if a[j]==i:\n",
    "                cnt+=1\n",
    "            if cnt==2:\n",
    "                repeating=i\n",
    "            elif cnt==0:\n",
    "                missing=i\n",
    "            if repeating!=-1 and missing!=-1:\n",
    "                break\n",
    "    return [repeating,missing]\n",
    "if __name__ == '__main__':\n",
    "    a = [3, 1, 2, 5, 4, 6, 7, 5]\n",
    "    ans = find(a)\n",
    "    print(\"The repeating and missing numbers are: {\", ans[0], \", \", ans[1], \"}\\n\")"
   ]
  },
  {
   "cell_type": "code",
   "execution_count": null,
   "id": "28fa9e35",
   "metadata": {},
   "outputs": [],
   "source": [
    "#COMPLEXITY:\n",
    "TC: O(N^2)\n",
    "SC: O(1)"
   ]
  },
  {
   "cell_type": "markdown",
   "id": "19c8f598",
   "metadata": {},
   "source": [
    "**Better approach**"
   ]
  },
  {
   "cell_type": "code",
   "execution_count": null,
   "id": "0bf1328a",
   "metadata": {},
   "outputs": [],
   "source": [
    "- hashing\n",
    "- hash array of size n+1--initialized to 0\n",
    "- We will iterate all the elements of the given array and update the hash array accordingly i.e. hash[a[i]] = hash[a[i]]+1.\n",
    "- In the next iteration,\n",
    "- repeating number, missing number"
   ]
  },
  {
   "cell_type": "code",
   "execution_count": 3,
   "id": "d5b26869",
   "metadata": {},
   "outputs": [
    {
     "name": "stdout",
     "output_type": "stream",
     "text": [
      "The repeating and missing numbers are: { 5 ,  8 }\n",
      "\n"
     ]
    }
   ],
   "source": [
    "def missing(a):\n",
    "    n=len(a)\n",
    "    hash=[0]*(n+1)\n",
    "    for i in range(n):\n",
    "        hash[a[i]]+=1\n",
    "    repeating,missing=-1,-1\n",
    "    for i in range(1,n+1):\n",
    "        if hash[i]==2:\n",
    "            repeating=i\n",
    "        elif hash[i]==0:\n",
    "            missing=i\n",
    "        if repeating!=-1 and missing!=-1:\n",
    "            break\n",
    "    return [repeating, missing]\n",
    "if __name__ == '__main__':\n",
    "    a = [3, 1, 2, 5, 4, 6, 7, 5]\n",
    "    ans = missing(a)\n",
    "    print(\"The repeating and missing numbers are: {\", ans[0], \", \", ans[1], \"}\\n\")"
   ]
  },
  {
   "cell_type": "code",
   "execution_count": null,
   "id": "9f3a5d6e",
   "metadata": {},
   "outputs": [],
   "source": [
    "#Complexity:\n",
    "TC: O(2N)\n",
    "SC: O(N)"
   ]
  },
  {
   "cell_type": "markdown",
   "id": "616fe390",
   "metadata": {},
   "source": [
    "**Optimal approach**\n",
    "- 2 optimal approaches"
   ]
  },
  {
   "cell_type": "markdown",
   "id": "dd8b3682",
   "metadata": {},
   "source": [
    "1. using maths\n",
    "- Since we have two variables i.e. missing and repeating, we will try to form two linear equations. And then we will find the values of two variables using those equations.\n",
    "- x=repeating number, y=missing number\n",
    "S-Sn=X-Y-------(1)\n",
    "Sn=n*(n+1)/2\n",
    "- sum of squares of elements- sum of squares of N natural no.s\n",
    "S2-S2n=X^2-Y^2----------(2)\n",
    "S2n=n*(n+1)*(2n+1)/6\n",
    "- by solving the 2 eqns for X and Y, we get repeating and missing numbers.\n",
    "-------------------------------------------------"
   ]
  },
  {
   "cell_type": "code",
   "execution_count": 5,
   "id": "f7e66f62",
   "metadata": {},
   "outputs": [
    {
     "name": "stdout",
     "output_type": "stream",
     "text": [
      "The repeating and missing numbers are: { 5 ,  8 }\n",
      "\n"
     ]
    }
   ],
   "source": [
    "from typing import List\n",
    "def mng(a):\n",
    "    n=len(a)\n",
    "    sN=(n*(n+1))//2\n",
    "    s2N=(n*(n+1)*(2*n+1))//6\n",
    "    S,S2=0,0\n",
    "    for i in range(n):\n",
    "        S+=a[i]\n",
    "        S2+=a[i]*a[i]\n",
    "    val1=S-sN #X-Y\n",
    "    val2=S2-s2N #X^2-Y^2\n",
    "    val2=val2//val1 #X+Y\n",
    "    X=(val1+val2)//2\n",
    "    Y=X-val1\n",
    "    return [X,Y]\n",
    "if __name__ == '__main__':\n",
    "    a = [3, 1, 2, 5, 4, 6, 7, 5]\n",
    "    ans = mng(a)\n",
    "    print(\"The repeating and missing numbers are: {\", ans[0], \", \", ans[1], \"}\\n\")"
   ]
  },
  {
   "cell_type": "code",
   "execution_count": null,
   "id": "919dbffc",
   "metadata": {},
   "outputs": [],
   "source": [
    "#Complexity:\n",
    "TC: O(N)\n",
    "SC: O(1)"
   ]
  }
 ],
 "metadata": {
  "kernelspec": {
   "display_name": "Python 3 (ipykernel)",
   "language": "python",
   "name": "python3"
  },
  "language_info": {
   "codemirror_mode": {
    "name": "ipython",
    "version": 3
   },
   "file_extension": ".py",
   "mimetype": "text/x-python",
   "name": "python",
   "nbconvert_exporter": "python",
   "pygments_lexer": "ipython3",
   "version": "3.11.5"
  }
 },
 "nbformat": 4,
 "nbformat_minor": 5
}
