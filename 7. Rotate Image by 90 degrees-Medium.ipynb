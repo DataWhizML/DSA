{
 "cells": [
  {
   "cell_type": "markdown",
   "id": "4623e424",
   "metadata": {},
   "source": [
    "### Question"
   ]
  },
  {
   "cell_type": "markdown",
   "id": "ba2ffb85",
   "metadata": {},
   "source": [
    "You are given an n x n 2D matrix representing an image, rotate the image by 90 degrees (clockwise).\n",
    "\n",
    "You have to rotate the image in-place, which means you have to modify the input 2D matrix directly. DO NOT allocate another 2D matrix and do the rotation."
   ]
  },
  {
   "cell_type": "markdown",
   "id": "836349e8",
   "metadata": {},
   "source": [
    "**Brute Force**"
   ]
  },
  {
   "cell_type": "code",
   "execution_count": null,
   "id": "4415a5a8",
   "metadata": {},
   "outputs": [],
   "source": [
    "- take another matrix of n*n \n",
    "- take the first row of the matrix\n",
    "- put it in the last column of the dummy matrix\n",
    "and so on and so forth"
   ]
  },
  {
   "cell_type": "code",
   "execution_count": 2,
   "id": "e37a3cbe",
   "metadata": {},
   "outputs": [],
   "source": [
    "from typing import List\n",
    "def rotate(matrix: List[List[int]])->List[List[int]]:\n",
    "    n=len(matrix)\n",
    "    rotated=[[0 for _ in range(n)]for _ in range(n)]\n",
    "    for i in range(n):\n",
    "        for j in range(n):\n",
    "            rotated[j][n-i-1]=matrix[i][j]\n",
    "    return rotated"
   ]
  },
  {
   "cell_type": "code",
   "execution_count": 3,
   "id": "7da5d7ea",
   "metadata": {},
   "outputs": [
    {
     "name": "stdout",
     "output_type": "stream",
     "text": [
      "Rotated Image\n",
      "7 4 1 \n",
      "8 5 2 \n",
      "9 6 3 \n"
     ]
    }
   ],
   "source": [
    "if __name__ == \"__main__\":\n",
    "    arr = [[1, 2, 3], [4, 5, 6], [7, 8, 9]]\n",
    "    rotated = rotate(arr)\n",
    "    print(\"Rotated Image\")\n",
    "    for i in range(len(rotated)):\n",
    "        for j in range(len(rotated[0])):\n",
    "            print(rotated[i][j], end=\" \")\n",
    "        print()"
   ]
  },
  {
   "cell_type": "code",
   "execution_count": null,
   "id": "06cc6d5e",
   "metadata": {},
   "outputs": [],
   "source": [
    "TC: O(n^2)\n",
    "SC: O(n^2)"
   ]
  },
  {
   "cell_type": "markdown",
   "id": "82e6d0dc",
   "metadata": {},
   "source": [
    "**Optimal**"
   ]
  },
  {
   "cell_type": "code",
   "execution_count": null,
   "id": "775e3917",
   "metadata": {},
   "outputs": [],
   "source": [
    "- transpose in the first step\n",
    "- reverse every row of the matrix===>answer"
   ]
  },
  {
   "cell_type": "code",
   "execution_count": 4,
   "id": "d4e9a49a",
   "metadata": {},
   "outputs": [],
   "source": [
    "from typing import List\n",
    "def rotate(matrix: List[List[int]]) ->None:\n",
    "    n=len(matrix)\n",
    "    #transposing the matrix\n",
    "    for i in range(n):\n",
    "        for j in range(i):\n",
    "            matrix[i][j],matrix[j][i]=matrix[j][i],matrix[i][j]\n",
    "    for i in range(n):\n",
    "        matrix[i].reverse()"
   ]
  },
  {
   "cell_type": "code",
   "execution_count": 5,
   "id": "a6ab2a2b",
   "metadata": {},
   "outputs": [
    {
     "name": "stdout",
     "output_type": "stream",
     "text": [
      "Rotated Image\n",
      "7 4 1 \n",
      "8 5 2 \n",
      "9 6 3 \n"
     ]
    }
   ],
   "source": [
    "if __name__ == \"__main__\":\n",
    "    arr = [[1, 2, 3], [4, 5, 6], [7, 8, 9]]\n",
    "    rotate(arr)\n",
    "    print(\"Rotated Image\")\n",
    "    for i in range(len(arr)):\n",
    "        for j in range(len(arr[0])):\n",
    "            print(arr[i][j], end=\" \")\n",
    "        print()"
   ]
  },
  {
   "cell_type": "code",
   "execution_count": null,
   "id": "52d0ff23",
   "metadata": {},
   "outputs": [],
   "source": [
    "TC:O(n^2)+O(n)\n",
    "SC:O(1)"
   ]
  }
 ],
 "metadata": {
  "kernelspec": {
   "display_name": "Python 3 (ipykernel)",
   "language": "python",
   "name": "python3"
  },
  "language_info": {
   "codemirror_mode": {
    "name": "ipython",
    "version": 3
   },
   "file_extension": ".py",
   "mimetype": "text/x-python",
   "name": "python",
   "nbconvert_exporter": "python",
   "pygments_lexer": "ipython3",
   "version": "3.11.5"
  }
 },
 "nbformat": 4,
 "nbformat_minor": 5
}
