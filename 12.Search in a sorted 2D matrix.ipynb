{
 "cells": [
  {
   "cell_type": "markdown",
   "id": "18d062b0",
   "metadata": {},
   "source": [
    "Problem Statement: You have been given a 2-D array ‘mat’ of size ‘N x M’ where ‘N’ and ‘M’ denote the number of rows and columns, respectively. The elements of each row are sorted in non-decreasing order. Moreover, the first element of a row is greater than the last element of the previous row (if it exists). You are given an integer ‘target’, and your task is to find if it exists in the given ‘mat’ or not."
   ]
  },
  {
   "cell_type": "markdown",
   "id": "8fb91dea",
   "metadata": {},
   "source": [
    "**Brute Force**"
   ]
  },
  {
   "cell_type": "code",
   "execution_count": 10,
   "id": "b8a0d948",
   "metadata": {},
   "outputs": [
    {
     "name": "stdout",
     "output_type": "stream",
     "text": [
      "True (2, 3)\n"
     ]
    }
   ],
   "source": [
    "def search(arr,x):\n",
    "    N=len(arr)\n",
    "    M=len(arr[0])\n",
    "    ans=False\n",
    "    for i in range(N):\n",
    "        for j in range(M):\n",
    "            if arr[i][j]==x:\n",
    "                ans=True\n",
    "                break\n",
    "    return ans,(i,j)       \n",
    "ans,index=search([[1,2,3,4],[5,6,7,8],[9,10,11,12]],8) \n",
    "print(ans,index)"
   ]
  },
  {
   "cell_type": "code",
   "execution_count": 8,
   "id": "8e27682f",
   "metadata": {},
   "outputs": [
    {
     "name": "stdout",
     "output_type": "stream",
     "text": [
      "False (2, 2)\n"
     ]
    }
   ],
   "source": [
    "ans,index=search(3,3,[[1,2,4],[6,7,8],[9,10,34]],78) \n",
    "print(ans,index)"
   ]
  },
  {
   "cell_type": "code",
   "execution_count": null,
   "id": "aa00e2bf",
   "metadata": {},
   "outputs": [],
   "source": [
    "#Complexity:\n",
    "TC:O(N*M)\n",
    "SC: O(1)"
   ]
  },
  {
   "cell_type": "markdown",
   "id": "9478041a",
   "metadata": {},
   "source": [
    "**Better approach**"
   ]
  },
  {
   "cell_type": "code",
   "execution_count": null,
   "id": "b61cf670",
   "metadata": {},
   "outputs": [],
   "source": [
    "- using binary search\n",
    "- run a loop to select a particular row at a time\n",
    "- if matrix[i][0]<=target and target<=matrix[i][m-1]\n",
    "- if it is true, we apply binary search on row i and \n",
    "check if target is present.\n",
    "- if present-true or false\n",
    "- otherwise, false"
   ]
  },
  {
   "cell_type": "code",
   "execution_count": 14,
   "id": "18106a45",
   "metadata": {},
   "outputs": [
    {
     "name": "stdout",
     "output_type": "stream",
     "text": [
      "true\n"
     ]
    }
   ],
   "source": [
    "def binary_search(nums,target):\n",
    "    n=len(nums)\n",
    "    low,high=0,n-1\n",
    "    while low<=high:\n",
    "        mid=(low+high)//2\n",
    "        if nums[mid]==target:\n",
    "            return True\n",
    "        elif target>nums[mid]:\n",
    "            low=mid+1\n",
    "        else:\n",
    "            high=mid-1\n",
    "    return False\n",
    "def searchMatrix(matrix,target):\n",
    "    n=len(matrix)\n",
    "    m=len(matrix[0])\n",
    "    for i in range(n):\n",
    "        if matrix[i][0]<=target<=matrix[i][m-1]:\n",
    "            return binary_search(matrix[i],target)\n",
    "    return False\n",
    "matrix = [[1, 2, 3, 4], [5, 6, 7, 8], [9, 10, 11, 12]]\n",
    "result = searchMatrix(matrix, 8)\n",
    "print(\"true\" if result else \"false\")"
   ]
  },
  {
   "cell_type": "markdown",
   "id": "d40ad477",
   "metadata": {},
   "source": [
    "#Complexity:\n",
    "TC: O(N+logM)\n",
    "     We are traversing all rows and it takes O(N) time complexity. But for all rows, we are not applying binary search rather we are only applying it once for a particular row.\n",
    "SC: O(1)"
   ]
  },
  {
   "cell_type": "markdown",
   "id": "219e9241",
   "metadata": {},
   "source": [
    "**Optimal approach**"
   ]
  },
  {
   "cell_type": "markdown",
   "id": "785b32ad",
   "metadata": {},
   "source": [
    "- imaginary 1D array\n",
    "- we will use binary search with the indices of the imag 1D array: 0 to (N*M)-1\n",
    "- when comparing elements, we will convert the index to the cell number and retrieve the element.\n",
    "- If index = i, and no. of columns in the matrix = m, the index i corresponds to the cell with \n",
    "- row = i / m and col = i % m."
   ]
  },
  {
   "cell_type": "markdown",
   "id": "d8e77cc7",
   "metadata": {},
   "source": [
    "algo:\n",
    "- place 2 pointers: low and high-low to 0 and high to (N*M)-1\n",
    "- calculate the mid\n",
    "- To get the element, we will convert index ‘mid’ to the corresponding cell using the above formula. Here no. of columns of the matrix = M.\n",
    "row = mid / M, col = mid % M.\n",
    "- If matrix[row][col] == target: We should return true here, as we have found the ‘target’.\n",
    "- If matrix[row][col] < target: In this case, we need bigger elements. So, we will eliminate the left half and consider the right half (low = mid+1).\n",
    "- If matrix[row][col] > target: In this case, we need smaller elements. So, we will eliminate the right half and consider the left half (high = mid-1).\n",
    "- Steps 2-3 will be inside a while loop and the loop will end once low crosses high\n",
    "- (i.e. low > high). If we are out of the loop, we can say the target does not exist in the matrix. So, we will return false."
   ]
  },
  {
   "cell_type": "code",
   "execution_count": 19,
   "id": "5433ebb6",
   "metadata": {},
   "outputs": [
    {
     "name": "stdout",
     "output_type": "stream",
     "text": [
      "true\n"
     ]
    }
   ],
   "source": [
    "def searchM(matrix,target):\n",
    "    n=len(matrix)\n",
    "    m=len(matrix[0])\n",
    "    #binary search\n",
    "    low=0\n",
    "    high=n*m-1\n",
    "    while low<=high:\n",
    "        mid=(low+high)//2\n",
    "        row=mid//m\n",
    "        col=mid%m\n",
    "        if matrix[row][col]==target:\n",
    "            return True\n",
    "        elif matrix[row][col]<target:\n",
    "            low=mid+1\n",
    "        else:\n",
    "            high=mid-1\n",
    "    return False\n",
    "matrix = [[1, 2, , 4], [5, 6, 7, 8], [9, 10, 11, 12]]\n",
    "result = searchMatrix(matrix, 8)\n",
    "print(\"true\" if result else \"false\")"
   ]
  },
  {
   "cell_type": "code",
   "execution_count": null,
   "id": "b6af065c",
   "metadata": {},
   "outputs": [],
   "source": [
    "#Complexity:\n",
    "TC: O(log(N*M))\n",
    "SC: O(1)"
   ]
  }
 ],
 "metadata": {
  "kernelspec": {
   "display_name": "Python 3 (ipykernel)",
   "language": "python",
   "name": "python3"
  },
  "language_info": {
   "codemirror_mode": {
    "name": "ipython",
    "version": 3
   },
   "file_extension": ".py",
   "mimetype": "text/x-python",
   "name": "python",
   "nbconvert_exporter": "python",
   "pygments_lexer": "ipython3",
   "version": "3.11.5"
  }
 },
 "nbformat": 4,
 "nbformat_minor": 5
}
