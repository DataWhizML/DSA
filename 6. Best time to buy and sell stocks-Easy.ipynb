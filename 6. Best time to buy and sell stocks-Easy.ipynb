{
 "cells": [
  {
   "cell_type": "markdown",
   "id": "568da62f",
   "metadata": {},
   "source": [
    "### Question:"
   ]
  },
  {
   "cell_type": "code",
   "execution_count": null,
   "id": "c7983218",
   "metadata": {},
   "outputs": [],
   "source": [
    "You are given an array prices where prices[i] is the price of a given stock on the ith day.\n",
    "\n",
    "You want to maximize your profit by choosing a single day to buy one stock and choosing a different day in the future to sell that stock.\n",
    "\n",
    "Return the maximum profit you can achieve from this transaction. If you cannot achieve any profit, return 0."
   ]
  },
  {
   "cell_type": "markdown",
   "id": "060cd412",
   "metadata": {},
   "source": [
    "**Brute force**"
   ]
  },
  {
   "cell_type": "code",
   "execution_count": null,
   "id": "0217eebe",
   "metadata": {},
   "outputs": [],
   "source": [
    "- use 2 loops and track every transaction\n",
    "- maintain a variable maxx to store the max profit"
   ]
  },
  {
   "cell_type": "code",
   "execution_count": 2,
   "id": "a123ce28",
   "metadata": {},
   "outputs": [
    {
     "data": {
      "text/plain": [
       "5"
      ]
     },
     "execution_count": 2,
     "metadata": {},
     "output_type": "execute_result"
    }
   ],
   "source": [
    "def maxProfit(arr):\n",
    "    maxPro=0\n",
    "    n=len(arr)\n",
    "    \n",
    "    for i in range(n):\n",
    "        for j in range(i+1,n):\n",
    "            if arr[j]>arr[i]:\n",
    "                maxPro=max(arr[j]-arr[i], maxPro)\n",
    "    return maxPro\n",
    "maxProfit([7,1,5,3,6,4])"
   ]
  },
  {
   "cell_type": "code",
   "execution_count": null,
   "id": "08796feb",
   "metadata": {},
   "outputs": [],
   "source": [
    "TC: O(N*2)\n",
    "SC: O(1)"
   ]
  },
  {
   "cell_type": "markdown",
   "id": "745f678a",
   "metadata": {},
   "source": [
    "**Optimal solution**"
   ]
  },
  {
   "cell_type": "code",
   "execution_count": null,
   "id": "2a76ed65",
   "metadata": {},
   "outputs": [],
   "source": [
    "- linearly travel the array\n",
    "- minimum variable\n",
    "- compare it with every element and diff is greater than minimum then\n",
    "- take the difference and maintain it in max\n",
    "- otherwise update the minimum"
   ]
  },
  {
   "cell_type": "code",
   "execution_count": 3,
   "id": "c4a48d00",
   "metadata": {},
   "outputs": [],
   "source": [
    "def maxProfit(arr):\n",
    "    maxPro=0\n",
    "    minPrice=float('inf')\n",
    "    for i in range(len(arr)):\n",
    "        minPrice=min(minPrice,arr[i])\n",
    "        maxPro=max(maxPro,arr[i]-minPrice)\n",
    "    return maxPro "
   ]
  },
  {
   "cell_type": "code",
   "execution_count": 4,
   "id": "b4cb3bb9",
   "metadata": {},
   "outputs": [
    {
     "data": {
      "text/plain": [
       "5"
      ]
     },
     "execution_count": 4,
     "metadata": {},
     "output_type": "execute_result"
    }
   ],
   "source": [
    "maxProfit([7, 1, 5, 3, 6, 4])"
   ]
  },
  {
   "cell_type": "code",
   "execution_count": null,
   "id": "0dd1eb40",
   "metadata": {},
   "outputs": [],
   "source": [
    "TC: O(n)\n",
    "SC: O(1)"
   ]
  }
 ],
 "metadata": {
  "kernelspec": {
   "display_name": "Python 3 (ipykernel)",
   "language": "python",
   "name": "python3"
  },
  "language_info": {
   "codemirror_mode": {
    "name": "ipython",
    "version": 3
   },
   "file_extension": ".py",
   "mimetype": "text/x-python",
   "name": "python",
   "nbconvert_exporter": "python",
   "pygments_lexer": "ipython3",
   "version": "3.11.5"
  }
 },
 "nbformat": 4,
 "nbformat_minor": 5
}
